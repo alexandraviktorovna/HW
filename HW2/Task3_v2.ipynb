{
 "cells": [
  {
   "cell_type": "code",
   "execution_count": 1,
   "metadata": {},
   "outputs": [
    {
     "name": "stdout",
     "output_type": "stream",
     "text": [
      "Введите месяц:март\n",
      "Введите дату:6\n",
      "Рыбы\n"
     ]
    }
   ],
   "source": [
    "month = input('Введите месяц:')\n",
    "date = int(input('Введите дату:'))\n",
    "if (month == 'январь' and 1 <= date <= 19) or (month == 'декабрь' and 22 <= date <= 31):\n",
    "   print('Козерог')\n",
    "elif (month == 'январь' and 20 <= date <= 31) or (month == 'февраль' and 1 <= date <= 19):\n",
    "   print('Водолей')\n",
    "elif (month == 'февраль' and 20 <= date <= 29) or (month == 'март' and 1 <= date <= 20):\n",
    "   print('Рыбы')\n",
    "elif (month == 'март' and 21 <= date <= 31) or (month == 'апрель' and 1 <= date <= 20):\n",
    "   print('Овен')\n",
    "elif (month == 'апрель' and 21 <= date <= 30) or (month == 'май' and 1 <= date <= 20):\n",
    "   print('Телец')\n",
    "elif (month == 'май' and 21 <= date <= 31) or (month == 'июнь' and 1 <= date <= 20):\n",
    "   print('Близнецы')\n",
    "elif (month == 'июнь' and 21 <= date <= 30) or (month == 'июль' and 1 <= date <= 22):\n",
    "   print('Рак')\n",
    "elif (month == 'июль' and 23 <= date <= 31) or (month == 'август' and 1 <= date <= 22):\n",
    "   print('Лев')\n",
    "elif (month == 'август' and 23 <= date <= 31) or (month == 'сентябрь' and 1 <= date <= 22):\n",
    "   print('Дева')\n",
    "elif (month == 'сентябрь' and 23 <= date <= 30) or (month == 'октябрь' and 1 <= date <= 22):\n",
    "   print('Весы')\n",
    "elif (month == 'октябрь' and 23 <= date <= 31) or (month == 'ноябрь' and 1 <= date <= 22):\n",
    "   print('Скорпион')\n",
    "elif (month == 'ноябрь' and 23 <= date <= 30) or (month == 'декабрь' and 1 <= date <= 21):\n",
    "   print('Стрелец')\n",
    "else:\n",
    "  print('Ошибка в данных')"
   ]
  }
 ],
 "metadata": {
  "kernelspec": {
   "display_name": "Python 3",
   "language": "python",
   "name": "python3"
  },
  "language_info": {
   "codemirror_mode": {
    "name": "ipython",
    "version": 3
   },
   "file_extension": ".py",
   "mimetype": "text/x-python",
   "name": "python",
   "nbconvert_exporter": "python",
   "pygments_lexer": "ipython3",
   "version": "3.7.6"
  }
 },
 "nbformat": 4,
 "nbformat_minor": 4
}
