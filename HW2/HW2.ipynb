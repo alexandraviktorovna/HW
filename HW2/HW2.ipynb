{
 "cells": [
  {
   "cell_type": "markdown",
   "metadata": {},
   "source": [
    "**Задание 1**. Даны 2 строки: *long_phrase* и *short_phrase*. \n",
    "Напишите код, который проверяет действительно ли длинная фраза *long_phrase* длиннее короткой *short_phrase*. И выводит *True* или *False* в зависимости от результата сравнения."
   ]
  },
  {
   "cell_type": "code",
   "execution_count": 1,
   "metadata": {},
   "outputs": [],
   "source": [
    "long_phrase = 'Насколько проще было бы писать программы, если бы не заказчики'\n",
    "short_phrase = '640Кб должно хватить для любых задач. Билл Гейтс (по легенде)'"
   ]
  },
  {
   "cell_type": "code",
   "execution_count": 2,
   "metadata": {},
   "outputs": [
    {
     "data": {
      "text/plain": [
       "True"
      ]
     },
     "execution_count": 2,
     "metadata": {},
     "output_type": "execute_result"
    }
   ],
   "source": [
    "len('long_phrase') < len('short_phrase')"
   ]
  },
  {
   "cell_type": "markdown",
   "metadata": {},
   "source": [
    "**Задание 2**. Дано значение объема файла в байтах (*в мегабайте 2^20 байт*). Напишите перевод этого значения в мегабайты в формате: \"*Объем файла равен 213.68Mb*\"."
   ]
  },
  {
   "cell_type": "code",
   "execution_count": 3,
   "metadata": {
    "scrolled": true
   },
   "outputs": [
    {
     "name": "stdout",
     "output_type": "stream",
     "text": [
      "Введите значение в байтах224059719\n",
      "Объем файла равен 213.68 Mb\n"
     ]
    }
   ],
   "source": [
    "x = int(input('Введите значение в байтах'))\n",
    "y = round(x / 2 ** 20, 2)\n",
    "print('Объем файла равен', y, 'Mb')"
   ]
  },
  {
   "cell_type": "markdown",
   "metadata": {},
   "source": [
    "**Задание 3**. Разработать приложение для определения знака зодиака по дате рождения. Пример:\n",
    "\n",
    "Введите месяц: март\n",
    "\n",
    "Введите число: 6\n",
    "\n",
    "Вывод:\n",
    "Рыбы"
   ]
  },
  {
   "cell_type": "code",
   "execution_count": 4,
   "metadata": {},
   "outputs": [
    {
     "name": "stdout",
     "output_type": "stream",
     "text": [
      "Введите месяц:март\n",
      "Введите месяц:6\n",
      "Рыбы\n"
     ]
    }
   ],
   "source": [
    "month = input('Введите месяц:')\n",
    "date = int(input('Введите месяц:'))\n",
    "if month == 'январь':\n",
    "    if 1 <= date <= 19:\n",
    "        print('Козерог')\n",
    "    elif 20 <= date <= 31:\n",
    "        print('Водолей')\n",
    "    else:\n",
    "        print('Ошибка в данных')\n",
    "elif month == 'февраль':\n",
    "    if 1 <= date <= 19:\n",
    "        print('Водолей')\n",
    "    elif 20 <= date <= 29:\n",
    "        print('Рыбы')\n",
    "    else:\n",
    "        print('Ошибка в данных')\n",
    "elif month == 'март':\n",
    "    if 1 <= date <= 20:\n",
    "        print('Рыбы')\n",
    "    elif 21 <= date <= 31:\n",
    "        print('Овен')\n",
    "    else:\n",
    "        print('Ошибка в данных')\n",
    "elif month == 'апрель':\n",
    "    if 1 <= date <= 20:\n",
    "        print('Овен')\n",
    "    elif 21 <= date <= 30:\n",
    "        print('Телец')\n",
    "    else:\n",
    "        print('Ошибка в данных')\n",
    "elif month == 'май':\n",
    "    if 1 <= date <= 20:\n",
    "        print('Телец')\n",
    "    elif 21 <= date <= 31:\n",
    "        print('Близнецы')\n",
    "    else:\n",
    "        print('Ошибка в данных')\n",
    "elif month == 'июнь':\n",
    "    if 1 <= date <= 20:\n",
    "        print('Близнецы')\n",
    "    elif 21 <= date <= 30:\n",
    "        print('Рак')\n",
    "    else:\n",
    "        print('Ошибка в данных')\n",
    "elif month == 'июль':\n",
    "    if 1 <= date <= 22:\n",
    "        print('Рак')\n",
    "    elif 23 <= date <= 31:\n",
    "        print('Лев')\n",
    "    else:\n",
    "        print('Ошибка в данных')\n",
    "elif month == 'август':\n",
    "    if 1 <= date <= 22:\n",
    "        print('Лев')\n",
    "    elif 23 <= date <= 31:\n",
    "        print('Дева')\n",
    "    else:\n",
    "        print('Ошибка в данных')\n",
    "elif month == 'сентябрь':\n",
    "    if 1 <= date <= 22:\n",
    "        print('Дева')\n",
    "    elif 23 <= date <= 30:\n",
    "        print('Весы')\n",
    "    else:\n",
    "        print('Ошибка в данных')\n",
    "elif month == 'октябрь':\n",
    "    if 1 <= date <= 22:\n",
    "        print('Весы')\n",
    "    elif 23 <= date <= 31:\n",
    "        print('Скорпион')\n",
    "    else:\n",
    "        print('Ошибка в данных')\n",
    "elif month == 'ноябрь':\n",
    "    if 1 <= date <= 22:\n",
    "        print('Скорпион')\n",
    "    elif 23 <= date <= 30:\n",
    "        print('Стрелец')\n",
    "    else:\n",
    "        print('Ошибка в данных')\n",
    "elif month == 'декабрь':\n",
    "    if 1 <= date <= 21:\n",
    "        print('Стрелец')\n",
    "    elif 22 <= date <= 31:\n",
    "        print('Козерог')\n",
    "    else:\n",
    "        print('Ошибка в данных')\n",
    "else:\n",
    "    print('Ошибка в данных')"
   ]
  },
  {
   "cell_type": "markdown",
   "metadata": {},
   "source": [
    "**Задание 4**. Нужно разработать приложение для финансового планирования.\n",
    "Приложение учитывает сколько уходит на ипотеку, \"на жизнь\" и сколько нужно отложить на пенсию.\n",
    "Пользователь вводит:\n",
    "- заработанную плату в месяц.\n",
    "- сколько процентов от ЗП уходит на ипотеку.\n",
    "- сколько процентов от ЗП уходит \"на жизнь\".\n",
    "- сколько раз приходит премия в год.\n",
    "\n",
    "Остальная часть заработанной платы откладывается на пенсию.\n",
    "\n",
    "Также пользователю приходит премия в размере зарплаты, от которой половина уходит на отпуск, а вторая половина откладывается.\n",
    "\n",
    "Программа должна учитывать сколько премий было в год.\n",
    "\n",
    "Нужно вывести сколько денег тратит пользователь на ипотеку и сколько он накопит за год.\n",
    "\n",
    "Пример:\n",
    "\n",
    "Введите заработанную плату в месяц: 100000\n",
    "\n",
    "Введите сколько процентов уходит на ипотеку: 30\n",
    "\n",
    "Введите сколько процентов уходит на жизнь: 50\n",
    "\n",
    "Введите количество премий за год: 2\n",
    "\n",
    "Вывод:\n",
    "На ипотеку было потрачено: 360000 рублей\n",
    "Было накоплено: 340000 рублей"
   ]
  },
  {
   "cell_type": "code",
   "execution_count": 5,
   "metadata": {},
   "outputs": [
    {
     "name": "stdout",
     "output_type": "stream",
     "text": [
      "Введите заработную плату в месяц:100000\n",
      "Введите сколько процентов уходит на ипотеку:30\n",
      "Введите сколько процентов уходит на жизнь:50\n",
      "Введите количество премий за год:2\n",
      "На ипотеку было потрачено: 360000 рублей Было накоплено: 340000 рублей\n"
     ]
    }
   ],
   "source": [
    "salary = int(input('Введите заработную плату в месяц:'))\n",
    "loan = int(input('Введите сколько процентов уходит на ипотеку:'))\n",
    "living = int(input('Введите сколько процентов уходит на жизнь:'))\n",
    "bonus = int(input('Введите количество премий за год:'))\n",
    "print('На ипотеку было потрачено:', salary * 12 * loan // 100 , 'рублей', \\\n",
    "      'Было накоплено:', salary * 12 - salary * 12 * loan // 100 - salary * 12 * living // 100 + salary * bonus // 2, 'рублей')"
   ]
  },
  {
   "cell_type": "code",
   "execution_count": null,
   "metadata": {},
   "outputs": [],
   "source": []
  }
 ],
 "metadata": {
  "kernelspec": {
   "display_name": "Python 3",
   "language": "python",
   "name": "python3"
  },
  "language_info": {
   "codemirror_mode": {
    "name": "ipython",
    "version": 3
   },
   "file_extension": ".py",
   "mimetype": "text/x-python",
   "name": "python",
   "nbconvert_exporter": "python",
   "pygments_lexer": "ipython3",
   "version": "3.7.6"
  }
 },
 "nbformat": 4,
 "nbformat_minor": 2
}
