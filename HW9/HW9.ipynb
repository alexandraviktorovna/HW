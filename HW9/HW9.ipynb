{
 "cells": [
  {
   "cell_type": "markdown",
   "metadata": {},
   "source": [
    "Напишите функцию, которая принимает на вход строку и проверяет является ли она валидным транспортным номером. Если да, то функция должна возвращать отдельно номер и регион."
   ]
  },
  {
   "cell_type": "code",
   "execution_count": 1,
   "metadata": {},
   "outputs": [],
   "source": [
    "import re"
   ]
  },
  {
   "cell_type": "code",
   "execution_count": 2,
   "metadata": {},
   "outputs": [],
   "source": [
    "def check_valid_car_number():\n",
    "    car_number = input('Введите номер:')\n",
    "    pattern = r'[а-яА-ЯёЁ]{1}\\d{3}[а-яА-ЯёЁ]{2}\\d{2,3}'\n",
    "    if re.findall(pattern, car_number, flags=re.IGNORECASE):\n",
    "        number = re.findall(r'[а-яА-ЯёЁ]{1}\\d{3}[а-яА-ЯёЁ]{2}', car_number)\n",
    "        region = re.findall(r'\\d{2,3}$', car_number)\n",
    "        return f'Номер: {number[0]} Регион: {region[0]}'\n",
    "    else:\n",
    "        return'Не является валидным транспортным номером'"
   ]
  },
  {
   "cell_type": "code",
   "execution_count": 3,
   "metadata": {},
   "outputs": [
    {
     "name": "stdout",
     "output_type": "stream",
     "text": [
      "Введите номер:А710ТР27\n"
     ]
    },
    {
     "data": {
      "text/plain": [
       "'Номер: А710ТР Регион: 27'"
      ]
     },
     "execution_count": 3,
     "metadata": {},
     "output_type": "execute_result"
    }
   ],
   "source": [
    "check_valid_car_number()"
   ]
  },
  {
   "cell_type": "markdown",
   "metadata": {},
   "source": [
    "Постарайтесь написать (в крайнем случае найти) самый полный шаблон для проверки e-mail адресов через регулярное выражение, которая проверяет e-mail адрес на валидность. Можно руководствоваться следующими минимальными требованиями:\n",
    "• адрес должен содержать специальный символ “@”, который отделяет имя пользователя почтовой системы от доменного имени;\n",
    "• адрес не должен содержать следующие символы: “пробел”, “,”, “:”, “;”, “!”, “#”, “%”, “*”, “(”, “)”, “=”, “+”, “{”, “}”, \" \" \", \" ’ \", \" / \", \" \\ \" и “|”;\n",
    "• адрес должен состоять только из латинских символов;\n",
    "• после символа “@” должна быть как минимум одна “.”;\n",
    "• после последней точки должно быть не менее 2-х и не более 4-х символов, причем наличие цифр не допускается;\n",
    "• между последней точкой и символом “@” должно быть не менее 2-х символов\n",
    "• слева от “@” должно быть не менее четырех символов"
   ]
  },
  {
   "cell_type": "code",
   "execution_count": 5,
   "metadata": {},
   "outputs": [
    {
     "name": "stdout",
     "output_type": "stream",
     "text": [
      "Введите e-mail:sunny_1008@mail.ru\n",
      "Valid\n"
     ]
    }
   ],
   "source": [
    "email = input('Введите e-mail:')\n",
    "if re.findall(r'^[a-zA-Z0-9._-]{4,}@[a-zA-Z0-9.-]{2,}\\.[a-zA-Z]{2,4}$', email):\n",
    "    print('Valid')\n",
    "else:\n",
    "    print('Invalid')"
   ]
  },
  {
   "cell_type": "markdown",
   "metadata": {},
   "source": [
    "Напишите функцию, которая будет удалять все последовательные повторы слов из заданной строки при помощи регулярных выражений."
   ]
  },
  {
   "cell_type": "code",
   "execution_count": 6,
   "metadata": {},
   "outputs": [],
   "source": [
    "string_01 = 'лето лето осень зима весна summer autumn autumn winter spring'"
   ]
  },
  {
   "cell_type": "code",
   "execution_count": 7,
   "metadata": {},
   "outputs": [
    {
     "data": {
      "text/plain": [
       "'лето осень зима весна summer autumn winter spring'"
      ]
     },
     "execution_count": 7,
     "metadata": {},
     "output_type": "execute_result"
    }
   ],
   "source": [
    "re.sub(r'([а-яА-ЯёЁa-zA-Z]+)(\\s+\\1)', r'\\1', string_01)"
   ]
  },
  {
   "cell_type": "markdown",
   "metadata": {},
   "source": [
    "Напишите функцию, которая будет проверять номер сотового телефона на валидность, если он валиден, то переводить его в формат:\n",
    "+7(xxx)-xxx-xx-xx\n",
    "​\n",
    "Постарайтесь предусмотреть как можно больше адекватных форматов изначального ввода номера. Примеры валидных форматов:\n",
    "​\n",
    "• +7 955 555-55-55;\n",
    "• 9555555555;\n",
    "• 8(955)555-55-55;\n",
    "• +7 955 555 55 55;\n",
    "• 7(955) 555-55-55;\n",
    "• +7 955+555+55+55."
   ]
  },
  {
   "cell_type": "code",
   "execution_count": 8,
   "metadata": {},
   "outputs": [],
   "source": [
    "def match_tel():\n",
    "    tel = input('Введите номер телефона:')\n",
    "    model = r'((8|\\+7|7)[\\-\\s]?)?(\\(?)(\\d{3})(\\)?)([\\-\\s]?)(\\d{3})([\\-\\s]?)(\\d{2})([\\-\\s]?)(\\d{2})$'\n",
    "    if re.findall(model, tel):\n",
    "        return re.sub(model, '+7('r'\\4'')-'r'\\7''-'r'\\9''-'r'\\11', tel)\n",
    "    else:\n",
    "        print('Invalid number')"
   ]
  },
  {
   "cell_type": "code",
   "execution_count": null,
   "metadata": {},
   "outputs": [],
   "source": [
    "#вот в этом задании я не придумала, как победить момент, если номер телефона вводится без последней цифры, например.\n",
    "#если бы не было задачи вывести по итогу номер в заданном формате, то я бы не делила так много на скобочные группы \n",
    "#и добавила бы в модель условие по количеству символов в хвосте. Но здесь так не вышло."
   ]
  },
  {
   "cell_type": "code",
   "execution_count": 9,
   "metadata": {},
   "outputs": [
    {
     "name": "stdout",
     "output_type": "stream",
     "text": [
      "Введите номер телефона:7(955) 555-55-55\n"
     ]
    },
    {
     "data": {
      "text/plain": [
       "'+7(955)-555-55-55'"
      ]
     },
     "execution_count": 9,
     "metadata": {},
     "output_type": "execute_result"
    }
   ],
   "source": [
    "match_tel()"
   ]
  }
 ],
 "metadata": {
  "kernelspec": {
   "display_name": "Python 3",
   "language": "python",
   "name": "python3"
  },
  "language_info": {
   "codemirror_mode": {
    "name": "ipython",
    "version": 3
   },
   "file_extension": ".py",
   "mimetype": "text/x-python",
   "name": "python",
   "nbconvert_exporter": "python",
   "pygments_lexer": "ipython3",
   "version": "3.7.6"
  }
 },
 "nbformat": 4,
 "nbformat_minor": 4
}
