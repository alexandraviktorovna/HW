{
 "cells": [
  {
   "cell_type": "markdown",
   "metadata": {},
   "source": [
    "Вы работаете секретарем и вам постоянно приходят различные документы. Вы должны быть очень внимательны, чтобы не потерять ни один документ. Каталог документов хранится в следующем виде:"
   ]
  },
  {
   "cell_type": "code",
   "execution_count": 105,
   "metadata": {},
   "outputs": [],
   "source": [
    "documents = [\n",
    "    {'type': 'passport', 'number': '2207 876234', 'name': 'Василий Гупкин'},\n",
    "    {'type': 'invoice', 'number': '11-2', 'name': 'Геннадий Покемонов'},\n",
    "    {'type': 'insurance', 'number': '10006', 'name': 'Аристарх Павлов'}\n",
    "]"
   ]
  },
  {
   "cell_type": "markdown",
   "metadata": {},
   "source": [
    "Перечень полок, на которых находятся документы хранится в следующем виде:"
   ]
  },
  {
   "cell_type": "code",
   "execution_count": 106,
   "metadata": {},
   "outputs": [],
   "source": [
    "directories = {\n",
    "    '1': ['2207 876234', '11-2'],\n",
    "    '2': ['10006'],\n",
    "    '3': []\n",
    "}"
   ]
  },
  {
   "cell_type": "code",
   "execution_count": 13,
   "metadata": {},
   "outputs": [],
   "source": [
    "def people(): \n",
    "    doc_name = input('Введите номер документа: ')\n",
    "    check1 = False\n",
    "    for docs in documents:\n",
    "        if doc_name == docs['number']:\n",
    "            print(f\"Владелец: {docs['name']}\")\n",
    "            check1 = True\n",
    "    if check1 == False:\n",
    "        print('Документ с введенным номером отсутствует (проверьте корректность введенных данных)')"
   ]
  },
  {
   "cell_type": "code",
   "execution_count": 14,
   "metadata": {},
   "outputs": [
    {
     "name": "stdout",
     "output_type": "stream",
     "text": [
      "Введите номер документа: 1005\n",
      "Документ с введенным номером отсутствует (проверьте корректность введенных данных)\n"
     ]
    }
   ],
   "source": [
    "people()"
   ]
  },
  {
   "cell_type": "code",
   "execution_count": 11,
   "metadata": {},
   "outputs": [],
   "source": [
    "def shelf():\n",
    "    doc_number = input('Введите номер документа: ')\n",
    "    check2 = False\n",
    "    for key, value in directories.items():\n",
    "        if doc_number in value:\n",
    "            print(f'Документ находится на полке {key}')\n",
    "            check2 = True\n",
    "    if check2 == False:\n",
    "        print('Документ с введенным номером отсутствует (проверьте корректность введенных данных)')   "
   ]
  },
  {
   "cell_type": "code",
   "execution_count": 15,
   "metadata": {},
   "outputs": [
    {
     "name": "stdout",
     "output_type": "stream",
     "text": [
      "Введите номер документа: 10006\n",
      "Документ находится на полке 2\n"
     ]
    }
   ],
   "source": [
    "shelf()"
   ]
  },
  {
   "cell_type": "code",
   "execution_count": 19,
   "metadata": {},
   "outputs": [],
   "source": [
    "def docs_list():\n",
    "    for docs in documents:\n",
    "        print('\" \"'.join(docs.values()), '\"', sep ='')"
   ]
  },
  {
   "cell_type": "code",
   "execution_count": 20,
   "metadata": {},
   "outputs": [
    {
     "name": "stdout",
     "output_type": "stream",
     "text": [
      "passport\" \"2207 876234\" \"Василий Гупкин\"\n",
      "invoice\" \"11-2\" \"Геннадий Покемонов\"\n",
      "insurance\" \"10006\" \"Аристарх Павлов\"\n"
     ]
    }
   ],
   "source": [
    "docs_list()"
   ]
  },
  {
   "cell_type": "code",
   "execution_count": 28,
   "metadata": {},
   "outputs": [],
   "source": [
    "def add_shelf():\n",
    "    shelf = input('Введите номер новой полки: ')\n",
    "    if shelf not in directories:\n",
    "        directories[shelf] = []\n",
    "        print('Новая полка добавлена')\n",
    "    else:\n",
    "        print('Полка с таким номером уже существует')"
   ]
  },
  {
   "cell_type": "code",
   "execution_count": 27,
   "metadata": {},
   "outputs": [
    {
     "name": "stdout",
     "output_type": "stream",
     "text": [
      "Введите номер новой полки: 4\n",
      "Новая полка добавлена\n",
      "{'1': ['2207 876234', '11-2'], '2': ['10006'], '3': [], '4': []}\n"
     ]
    }
   ],
   "source": [
    "add_shelf()"
   ]
  },
  {
   "cell_type": "code",
   "execution_count": 90,
   "metadata": {
    "scrolled": true
   },
   "outputs": [],
   "source": [
    "def delete():\n",
    "    doc_number = input('Введите номер документа на удаление: ')\n",
    "    check3 = False\n",
    "    for docs in documents:\n",
    "        if doc_number == docs['number']:\n",
    "            #не могу сообразить, как мне тут удалить весь словарь, а не только одно значение с номером\n",
    "            del(docs['number'])\n",
    "            for value in directories.values():\n",
    "                if delete in value:\n",
    "                    value.remove(doc_number)\n",
    "            print('Документ успешно удален')\n",
    "            check3 = True\n",
    "    if check3 == False:\n",
    "        print('Документ с введенным номером отсутствует (проверьте корректность введенных данных)')"
   ]
  },
  {
   "cell_type": "code",
   "execution_count": 91,
   "metadata": {},
   "outputs": [
    {
     "name": "stdout",
     "output_type": "stream",
     "text": [
      "Введите номер документа на удаление: 10006\n"
     ]
    },
    {
     "ename": "KeyError",
     "evalue": "'number'",
     "output_type": "error",
     "traceback": [
      "\u001b[1;31m---------------------------------------------------------------------------\u001b[0m",
      "\u001b[1;31mKeyError\u001b[0m                                  Traceback (most recent call last)",
      "\u001b[1;32m<ipython-input-91-c3f12e66adb2>\u001b[0m in \u001b[0;36m<module>\u001b[1;34m\u001b[0m\n\u001b[1;32m----> 1\u001b[1;33m \u001b[0mdelete\u001b[0m\u001b[1;33m(\u001b[0m\u001b[1;33m)\u001b[0m\u001b[1;33m\u001b[0m\u001b[1;33m\u001b[0m\u001b[0m\n\u001b[0m",
      "\u001b[1;32m<ipython-input-90-431d09232c21>\u001b[0m in \u001b[0;36mdelete\u001b[1;34m()\u001b[0m\n\u001b[0;32m      3\u001b[0m     \u001b[0mcheck3\u001b[0m \u001b[1;33m=\u001b[0m \u001b[1;32mFalse\u001b[0m\u001b[1;33m\u001b[0m\u001b[1;33m\u001b[0m\u001b[0m\n\u001b[0;32m      4\u001b[0m     \u001b[1;32mfor\u001b[0m \u001b[0mdocs\u001b[0m \u001b[1;32min\u001b[0m \u001b[0mdocuments\u001b[0m\u001b[1;33m:\u001b[0m\u001b[1;33m\u001b[0m\u001b[1;33m\u001b[0m\u001b[0m\n\u001b[1;32m----> 5\u001b[1;33m         \u001b[1;32mif\u001b[0m \u001b[0mdoc_number\u001b[0m \u001b[1;33m==\u001b[0m \u001b[0mdocs\u001b[0m\u001b[1;33m[\u001b[0m\u001b[1;34m'number'\u001b[0m\u001b[1;33m]\u001b[0m\u001b[1;33m:\u001b[0m\u001b[1;33m\u001b[0m\u001b[1;33m\u001b[0m\u001b[0m\n\u001b[0m\u001b[0;32m      6\u001b[0m             \u001b[1;31m#не могу сообразить, как мне тут удалить весь словарь, а не только одно значение с номером\u001b[0m\u001b[1;33m\u001b[0m\u001b[1;33m\u001b[0m\u001b[1;33m\u001b[0m\u001b[0m\n\u001b[0;32m      7\u001b[0m             \u001b[1;32mdel\u001b[0m\u001b[1;33m(\u001b[0m\u001b[0mdocs\u001b[0m\u001b[1;33m[\u001b[0m\u001b[1;34m'number'\u001b[0m\u001b[1;33m]\u001b[0m\u001b[1;33m)\u001b[0m\u001b[1;33m\u001b[0m\u001b[1;33m\u001b[0m\u001b[0m\n",
      "\u001b[1;31mKeyError\u001b[0m: 'number'"
     ]
    }
   ],
   "source": [
    "delete()"
   ]
  },
  {
   "cell_type": "code",
   "execution_count": 98,
   "metadata": {},
   "outputs": [],
   "source": [
    "#застряла на добавлении проверки по несуществующему документу или несуществующей полке\n",
    "def move():\n",
    "    doc_number = input('Введите номер документа, которые следует переместить: ')\n",
    "    shelf = input('Введите номер полки, на которую нужно переместить документ: ')\n",
    "    for key, value in directories.items():\n",
    "        if doc_number in value:\n",
    "            value.remove(doc_number)\n",
    "            for key, value in directories.items():\n",
    "                if shelf in key:\n",
    "                    value.append(doc_number)\n",
    "    print(directories)      "
   ]
  },
  {
   "cell_type": "code",
   "execution_count": 99,
   "metadata": {},
   "outputs": [
    {
     "name": "stdout",
     "output_type": "stream",
     "text": [
      "Введите номер документа, которые следует переместить: 11-2\n",
      "Введите номер полки, на которую нужно переместить документ: 2\n",
      "{'1': ['2207 876234'], '2': ['11-2'], '3': ['10006']}\n"
     ]
    }
   ],
   "source": [
    "move()"
   ]
  },
  {
   "cell_type": "code",
   "execution_count": 110,
   "metadata": {},
   "outputs": [
    {
     "name": "stdout",
     "output_type": "stream",
     "text": [
      "Введите номер документа124431\n",
      "Введите тип документаgfdkk\n",
      "Введите имя владельца93279\n",
      "Введите номер полки, на которую нужно поместить документ2\n",
      "Документ успешно добавлен\n"
     ]
    }
   ],
   "source": [
    "doc_number = input('Введите номер документа')\n",
    "doc_type = input('Введите тип документа')\n",
    "doc_name = input('Введите имя владельца')\n",
    "doc_shelf = input('Введите номер полки, на которую нужно поместить документ')\n",
    "new_docs = {}\n",
    "if doc_shelf not in directories:\n",
    "    print('Вы пытаетесь добавить документ на несуществующую полку')\n",
    "else:\n",
    "    for docs in documents:\n",
    "        for key, value in docs.items():\n",
    "            new_docs['type'] = doc_type\n",
    "            new_docs['number'] = doc_number\n",
    "            new_docs['name'] = doc_name\n",
    "    documents.append(new_docs)\n",
    "    for key, value in directories.items():\n",
    "        if key == doc_shelf:\n",
    "            value.append(doc_number)\n",
    "    print('Документ успешно добавлен')   "
   ]
  },
  {
   "cell_type": "raw",
   "metadata": {},
   "source": []
  },
  {
   "cell_type": "markdown",
   "metadata": {},
   "source": [
    "Необходимо реализовать пользовательские команды (внимание! это не название функций, которые должны быть выразительными, а команды, которые вводит пользователь, чтобы получить необходимый результат):\n",
    "  \n",
    "- p – people – команда, которая спросит номер документа и выведет имя человека, которому он принадлежит;  \n",
    "- s – shelf – команда, которая спросит номер документа и выведет номер полки, на которой он находится  \n",
    "*Правильно обработайте ситуации, когда пользователь будет вводить несуществующий документ*.\n",
    "- l – list – команда, которая выведет список всех документов в формате   \n",
    "**passport \"2207 876234\" \"Василий Гупкин\"**  \n",
    "- as – add shelf – команда, которая спросит номер новой полки и добавит ее в перечень. *Предусмотрите случай, когда пользователь добавляет полку, которая уже существует*.\n",
    "- d – delete – команда, которая спросит номер документа и удалит его из каталога и из перечня полок. *Предусмотрите сценарий, когда пользователь вводит несуществующий документ*;  \n",
    "- m – move – команда, которая спросит номер документа и целевую полку и переместит его с текущей полки на целевую. *Корректно обработайте кейсы, когда пользователь пытается переместить несуществующий документ или переместить документ на несуществующую полку*;  \n",
    "- a – add – команда, которая добавит новый документ в каталог и в перечень полок, спросив его номер, тип, имя владельца и номер полки, на котором он будет храниться. *Корректно обработайте ситуацию, когда пользователь будет пытаться добавить документ на несуществующую полку*."
   ]
  }
 ],
 "metadata": {
  "kernelspec": {
   "display_name": "Python 3",
   "language": "python",
   "name": "python3"
  },
  "language_info": {
   "codemirror_mode": {
    "name": "ipython",
    "version": 3
   },
   "file_extension": ".py",
   "mimetype": "text/x-python",
   "name": "python",
   "nbconvert_exporter": "python",
   "pygments_lexer": "ipython3",
   "version": "3.7.6"
  }
 },
 "nbformat": 4,
 "nbformat_minor": 2
}
