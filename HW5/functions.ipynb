{
 "cells": [
  {
   "cell_type": "markdown",
   "metadata": {},
   "source": [
    "Вы работаете секретарем и вам постоянно приходят различные документы. Вы должны быть очень внимательны, чтобы не потерять ни один документ. Каталог документов хранится в следующем виде:"
   ]
  },
  {
   "cell_type": "code",
   "execution_count": 1,
   "metadata": {},
   "outputs": [],
   "source": [
    "documents = [\n",
    "    {'type': 'passport', 'number': '2207 876234', 'name': 'Василий Гупкин'},\n",
    "    {'type': 'invoice', 'number': '11-2', 'name': 'Геннадий Покемонов'},\n",
    "    {'type': 'insurance', 'number': '10006', 'name': 'Аристарх Павлов'}\n",
    "]"
   ]
  },
  {
   "cell_type": "markdown",
   "metadata": {},
   "source": [
    "Перечень полок, на которых находятся документы хранится в следующем виде:"
   ]
  },
  {
   "cell_type": "code",
   "execution_count": 2,
   "metadata": {},
   "outputs": [],
   "source": [
    "directories = {\n",
    "    '1': ['2207 876234', '11-2'],\n",
    "    '2': ['10006'],\n",
    "    '3': []\n",
    "}"
   ]
  },
  {
   "cell_type": "code",
   "execution_count": 3,
   "metadata": {},
   "outputs": [],
   "source": [
    "def people(): \n",
    "    doc_name = input('Введите номер документа: ')\n",
    "    check1 = False\n",
    "    for docs in documents:\n",
    "        if doc_name == docs['number']:\n",
    "            print(f\"Владелец: {docs['name']}\")\n",
    "            check1 = True\n",
    "    if check1 == False:\n",
    "        print('Документ с введенным номером отсутствует (проверьте корректность введенных данных)')"
   ]
  },
  {
   "cell_type": "code",
   "execution_count": 4,
   "metadata": {},
   "outputs": [],
   "source": [
    "def shelf():\n",
    "    doc_number = input('Введите номер документа: ')\n",
    "    check2 = False\n",
    "    for key, value in directories.items():\n",
    "        if doc_number in value:\n",
    "            print(f'Документ находится на полке {key}')\n",
    "            check2 = True\n",
    "    if check2 == False:\n",
    "        print('Документ с введенным номером отсутствует (проверьте корректность введенных данных)')   "
   ]
  },
  {
   "cell_type": "code",
   "execution_count": 5,
   "metadata": {},
   "outputs": [],
   "source": [
    "#Вариант №1\n",
    "def docs_list1():\n",
    "    for docs in documents:\n",
    "        print('\" \"'.join(docs.values()), '\"', sep ='')"
   ]
  },
  {
   "cell_type": "code",
   "execution_count": 15,
   "metadata": {},
   "outputs": [],
   "source": [
    "#Вариант №2\n",
    "def docs_list2():\n",
    "    for doc in documents:\n",
    "        doc_type = doc['type']\n",
    "        doc_number = doc['number']\n",
    "        owner_name = doc['name']\n",
    "        print(f'{doc_type} \"{doc_number}\" \"{owner_name}\"')"
   ]
  },
  {
   "cell_type": "code",
   "execution_count": 7,
   "metadata": {},
   "outputs": [],
   "source": [
    "def add_shelf():\n",
    "    shelf = input('Введите номер новой полки: ')\n",
    "    if shelf not in directories:\n",
    "        directories[shelf] = []\n",
    "        print('Новая полка добавлена')\n",
    "    else:\n",
    "        print('Полка с таким номером уже существует')"
   ]
  },
  {
   "cell_type": "code",
   "execution_count": 8,
   "metadata": {
    "scrolled": true
   },
   "outputs": [],
   "source": [
    "def delete():\n",
    "    doc_number = input('Введите номер документа на удаление: ')\n",
    "    check3 = False\n",
    "    for docs in documents:\n",
    "        if doc_number == docs['number']:\n",
    "            documents.remove(docs)\n",
    "            for value in directories.values():\n",
    "                if doc_number in value:\n",
    "                    value.remove(doc_number)\n",
    "            print('Документ успешно удален')\n",
    "            check3 = True\n",
    "    if check3 == False:\n",
    "        print('Документ с введенным номером отсутствует (проверьте корректность введенных данных)')"
   ]
  },
  {
   "cell_type": "code",
   "execution_count": 9,
   "metadata": {},
   "outputs": [],
   "source": [
    "def move():\n",
    "    doc_number = input('Введите номер документа, которые следует переместить: ')\n",
    "    shelf = input('Введите номер полки, на которую нужно переместить документ: ')\n",
    "    check4 = False\n",
    "    if shelf not in directories:\n",
    "        print('Полка с таким номером не существует')\n",
    "        return\n",
    "    for key, value in directories.items():\n",
    "        if doc_number in value:\n",
    "            value.remove(doc_number)\n",
    "            check4 = True\n",
    "    if check4 == True:\n",
    "        directories[shelf] += [doc_number]\n",
    "    else:\n",
    "        print('Документ с введенным номером отсутствует (проверьте корректность введенных данных)')"
   ]
  },
  {
   "cell_type": "code",
   "execution_count": 10,
   "metadata": {},
   "outputs": [],
   "source": [
    "def add_doc():\n",
    "    doc_number = input('Введите номер документа')\n",
    "    doc_type = input('Введите тип документа')\n",
    "    doc_name = input('Введите имя владельца')\n",
    "    doc_shelf = input('Введите номер полки, на которую нужно поместить документ')\n",
    "    new_docs = {}\n",
    "    if doc_shelf not in directories:\n",
    "        print('Вы пытаетесь добавить документ на несуществующую полку')\n",
    "    else:\n",
    "        for docs in documents:\n",
    "            for key, value in docs.items():\n",
    "                new_docs['type'] = doc_type\n",
    "                new_docs['number'] = doc_number\n",
    "                new_docs['name'] = doc_name\n",
    "        documents.append(new_docs)\n",
    "        for key, value in directories.items():\n",
    "            if key == doc_shelf:\n",
    "                value.append(doc_number)\n",
    "        print('Документ успешно добавлен')   "
   ]
  },
  {
   "cell_type": "code",
   "execution_count": 26,
   "metadata": {},
   "outputs": [],
   "source": [
    "def main():\n",
    "    user_input = input('Введите команду')\n",
    "    if user_input == 'p':\n",
    "        people()\n",
    "    elif user_input == 's':\n",
    "        shelf()\n",
    "    elif user_input == 'l':\n",
    "        docs_list2()\n",
    "    elif user_input == 'as':\n",
    "        add_shelf()\n",
    "    elif user_input == 'd':\n",
    "        delete()\n",
    "    elif user_input == 'm':\n",
    "        move()\n",
    "    elif user_input == 'a':    \n",
    "        add_doc()"
   ]
  },
  {
   "cell_type": "code",
   "execution_count": 30,
   "metadata": {},
   "outputs": [
    {
     "name": "stdout",
     "output_type": "stream",
     "text": [
      "Введите командуa\n",
      "Введите номер документа123\n",
      "Введите тип документаinv\n",
      "Введите имя владельцаzina\n",
      "Введите номер полки, на которую нужно поместить документ2\n",
      "Документ успешно добавлен\n"
     ]
    }
   ],
   "source": [
    "main()"
   ]
  },
  {
   "cell_type": "markdown",
   "metadata": {},
   "source": [
    "Необходимо реализовать пользовательские команды (внимание! это не название функций, которые должны быть выразительными, а команды, которые вводит пользователь, чтобы получить необходимый результат):\n",
    "  \n",
    "- p – people – команда, которая спросит номер документа и выведет имя человека, которому он принадлежит;  \n",
    "- s – shelf – команда, которая спросит номер документа и выведет номер полки, на которой он находится  \n",
    "*Правильно обработайте ситуации, когда пользователь будет вводить несуществующий документ*.\n",
    "- l – list – команда, которая выведет список всех документов в формате   \n",
    "**passport \"2207 876234\" \"Василий Гупкин\"**  \n",
    "- as – add shelf – команда, которая спросит номер новой полки и добавит ее в перечень. *Предусмотрите случай, когда пользователь добавляет полку, которая уже существует*.\n",
    "- d – delete – команда, которая спросит номер документа и удалит его из каталога и из перечня полок. *Предусмотрите сценарий, когда пользователь вводит несуществующий документ*;  \n",
    "- m – move – команда, которая спросит номер документа и целевую полку и переместит его с текущей полки на целевую. *Корректно обработайте кейсы, когда пользователь пытается переместить несуществующий документ или переместить документ на несуществующую полку*;  \n",
    "- a – add – команда, которая добавит новый документ в каталог и в перечень полок, спросив его номер, тип, имя владельца и номер полки, на котором он будет храниться. *Корректно обработайте ситуацию, когда пользователь будет пытаться добавить документ на несуществующую полку*."
   ]
  }
 ],
 "metadata": {
  "kernelspec": {
   "display_name": "Python 3",
   "language": "python",
   "name": "python3"
  },
  "language_info": {
   "codemirror_mode": {
    "name": "ipython",
    "version": 3
   },
   "file_extension": ".py",
   "mimetype": "text/x-python",
   "name": "python",
   "nbconvert_exporter": "python",
   "pygments_lexer": "ipython3",
   "version": "3.7.6"
  }
 },
 "nbformat": 4,
 "nbformat_minor": 2
}
